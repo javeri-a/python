{
  "nbformat": 4,
  "nbformat_minor": 0,
  "metadata": {
    "colab": {
      "provenance": [],
      "authorship_tag": "ABX9TyPUr5LzTEguKrrFWkcmOg1N",
      "include_colab_link": true
    },
    "kernelspec": {
      "name": "python3",
      "display_name": "Python 3"
    },
    "language_info": {
      "name": "python"
    }
  },
  "cells": [
    {
      "cell_type": "markdown",
      "metadata": {
        "id": "view-in-github",
        "colab_type": "text"
      },
      "source": [
        "<a href=\"https://colab.research.google.com/github/javeri-a/python/blob/main/Day2.ipynb\" target=\"_parent\"><img src=\"https://colab.research.google.com/assets/colab-badge.svg\" alt=\"Open In Colab\"/></a>"
      ]
    },
    {
      "cell_type": "code",
      "execution_count": null,
      "metadata": {
        "colab": {
          "base_uri": "https://localhost:8080/"
        },
        "id": "aRTzTNY2MgG5",
        "outputId": "b400814c-3536-431d-bf91-a67cf6d8da32"
      },
      "outputs": [
        {
          "output_type": "stream",
          "name": "stdout",
          "text": [
            "Hello world\n"
          ]
        }
      ],
      "source": [
        "print(\"Hello world\")"
      ]
    },
    {
      "cell_type": "code",
      "source": [
        "name = \"javeria\""
      ],
      "metadata": {
        "id": "SplLsdCPMwlA"
      },
      "execution_count": null,
      "outputs": []
    },
    {
      "cell_type": "code",
      "source": [
        "name = \"javeria\"\n",
        "age = 19\n",
        "date = 12-2-2025\n",
        "day = \"Wednesday\"\n",
        "is_student = True\n",
        "print(name,age,date,day,is_student)"
      ],
      "metadata": {
        "colab": {
          "base_uri": "https://localhost:8080/"
        },
        "id": "Vv_XOnhtWSjb",
        "outputId": "b38fcb74-19f0-4b38-9d86-740b1599d2d0"
      },
      "execution_count": null,
      "outputs": [
        {
          "output_type": "stream",
          "name": "stdout",
          "text": [
            "javeria 19 -2015 Wednesday True\n"
          ]
        }
      ]
    },
    {
      "cell_type": "code",
      "source": [
        "name = input(\"Enter your name\")\n",
        "print(\"Hello , \"+ name + \"!\")"
      ],
      "metadata": {
        "colab": {
          "base_uri": "https://localhost:8080/"
        },
        "id": "OU53pMLjfKSM",
        "outputId": "ac3d6297-87ea-4825-db2f-20105d85e998"
      },
      "execution_count": null,
      "outputs": [
        {
          "output_type": "stream",
          "name": "stdout",
          "text": [
            "Enter your namejiya\n",
            "Hello , jiya!\n"
          ]
        }
      ]
    },
    {
      "cell_type": "code",
      "source": [
        "fruit = input(\"Enter your favourite fruit\")\n",
        "print(fruit + \" is my favourite fruit\")"
      ],
      "metadata": {
        "colab": {
          "base_uri": "https://localhost:8080/"
        },
        "id": "oZpHRw00eM6F",
        "outputId": "38a80667-5494-4319-d618-269d6f3f6c83"
      },
      "execution_count": null,
      "outputs": [
        {
          "output_type": "stream",
          "name": "stdout",
          "text": [
            "Enter your favourite fruitMango\n",
            "Mango is my favourite fruit\n"
          ]
        }
      ]
    },
    {
      "cell_type": "code",
      "source": [
        "age = int(input(\"Enter your age: \"))\n",
        "\n",
        "if age >= 18:\n",
        "    print(\"You are an adult.\")\n",
        "else:\n",
        "    print(\"You are a minor.\")"
      ],
      "metadata": {
        "colab": {
          "base_uri": "https://localhost:8080/"
        },
        "id": "nqvK3fzSgoPg",
        "outputId": "7e5a801d-5c0b-47ea-9308-240cf1e01feb"
      },
      "execution_count": null,
      "outputs": [
        {
          "output_type": "stream",
          "name": "stdout",
          "text": [
            "Enter your age: 12\n",
            "You are a minor.\n"
          ]
        }
      ]
    },
    {
      "cell_type": "code",
      "source": [
        "def greet(name):\n",
        "    print(\"Hello, \" + name + \"!\")\n",
        "\n",
        "greet(\"Javeria\")\n"
      ],
      "metadata": {
        "colab": {
          "base_uri": "https://localhost:8080/"
        },
        "id": "SjyF1cYyjC4t",
        "outputId": "7260c496-ef7d-44fe-f4e8-a285e78a995c"
      },
      "execution_count": null,
      "outputs": [
        {
          "output_type": "stream",
          "name": "stdout",
          "text": [
            "Hello, Javeria!\n"
          ]
        }
      ]
    }
  ]
}