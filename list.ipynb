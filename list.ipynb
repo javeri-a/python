{
  "nbformat": 4,
  "nbformat_minor": 0,
  "metadata": {
    "colab": {
      "provenance": [],
      "authorship_tag": "ABX9TyMNflCO45w4hJiWRknCOuVP",
      "include_colab_link": true
    },
    "kernelspec": {
      "name": "python3",
      "display_name": "Python 3"
    },
    "language_info": {
      "name": "python"
    }
  },
  "cells": [
    {
      "cell_type": "markdown",
      "metadata": {
        "id": "view-in-github",
        "colab_type": "text"
      },
      "source": [
        "<a href=\"https://colab.research.google.com/github/javeri-a/python/blob/main/list.ipynb\" target=\"_parent\"><img src=\"https://colab.research.google.com/assets/colab-badge.svg\" alt=\"Open In Colab\"/></a>"
      ]
    },
    {
      "cell_type": "code",
      "source": [],
      "metadata": {
        "id": "Uz8Fo7GrhEKd"
      },
      "execution_count": null,
      "outputs": []
    },
    {
      "cell_type": "markdown",
      "source": [
        "# `***LIST***`"
      ],
      "metadata": {
        "id": "5HgC-rATiYyd"
      }
    },
    {
      "cell_type": "code",
      "source": [
        "myList= [1.5, 56,87,5,66]\n",
        "print(type(myList))"
      ],
      "metadata": {
        "colab": {
          "base_uri": "https://localhost:8080/"
        },
        "id": "BQ4NtryFijF2",
        "outputId": "74c63c6e-bb1a-46c4-834a-7f06b13dfcf9"
      },
      "execution_count": 7,
      "outputs": [
        {
          "output_type": "stream",
          "name": "stdout",
          "text": [
            "<class 'list'>\n"
          ]
        }
      ]
    },
    {
      "cell_type": "code",
      "source": [
        "lists =[34,\"hey\",5667,7.5,\"men\"]\n",
        "print(lists)"
      ],
      "metadata": {
        "colab": {
          "base_uri": "https://localhost:8080/"
        },
        "id": "ldCCecwPj5M1",
        "outputId": "69c7de90-adf4-4f93-93d5-7eaada5d01ec"
      },
      "execution_count": 8,
      "outputs": [
        {
          "output_type": "stream",
          "name": "stdout",
          "text": [
            "[34, 'hey', 5667, 7.5, 'men']\n"
          ]
        }
      ]
    },
    {
      "cell_type": "code",
      "source": [
        "iList =[4,5,6,8,23,567,99]\n",
        "print(iList[6])"
      ],
      "metadata": {
        "colab": {
          "base_uri": "https://localhost:8080/"
        },
        "id": "27cye4WpkMJ0",
        "outputId": "a93fe53b-c78a-4c6c-b18a-d61ce931bda3"
      },
      "execution_count": 9,
      "outputs": [
        {
          "output_type": "stream",
          "name": "stdout",
          "text": [
            "99\n"
          ]
        }
      ]
    },
    {
      "cell_type": "code",
      "source": [
        "sList = [67,\"mango\",88,\"lemon\"]\n",
        "sList.append(\"sweet potato\")\n",
        "print(sList)"
      ],
      "metadata": {
        "colab": {
          "base_uri": "https://localhost:8080/"
        },
        "id": "DSMaTW8Akfey",
        "outputId": "281a1308-545e-46db-846b-28931abe50f9"
      },
      "execution_count": 10,
      "outputs": [
        {
          "output_type": "stream",
          "name": "stdout",
          "text": [
            "[67, 'mango', 88, 'lemon', 'sweet potato']\n"
          ]
        }
      ]
    },
    {
      "cell_type": "code",
      "source": [
        "bList =[55,88997,7.9]\n",
        "bList.sort()\n",
        "bList.sort(reverse=True)\n",
        "print(bList)\n",
        "\n",
        "\n",
        "jList = [\"mango\", \"apple\",\"cherry\",\"melon\"]\n",
        "jList.sort()\n",
        "print(jList)\n",
        "\n",
        "listss =[True , False ,True]\n",
        "listss.sort()\n",
        "print(listss)"
      ],
      "metadata": {
        "colab": {
          "base_uri": "https://localhost:8080/"
        },
        "id": "OHmsS4ColEZ9",
        "outputId": "476e2e29-174f-4832-a2b2-4d36199711dc"
      },
      "execution_count": 16,
      "outputs": [
        {
          "output_type": "stream",
          "name": "stdout",
          "text": [
            "[88997, 55, 7.9]\n",
            "['apple', 'cherry', 'mango', 'melon']\n",
            "[False, True, True]\n"
          ]
        }
      ]
    },
    {
      "cell_type": "code",
      "source": [
        "matrix = [[1, 2, 3], [4, 5, 6], [7, 8, 9]]\n",
        "print(matrix[1][2])\n"
      ],
      "metadata": {
        "colab": {
          "base_uri": "https://localhost:8080/"
        },
        "id": "0jAL5q7kn99D",
        "outputId": "fe75bc60-2f53-42fb-88a0-6c7f6f2fbfe1"
      },
      "execution_count": 17,
      "outputs": [
        {
          "output_type": "stream",
          "name": "stdout",
          "text": [
            "6\n"
          ]
        }
      ]
    },
    {
      "cell_type": "markdown",
      "source": [],
      "metadata": {
        "id": "Txh4uMXRo47q"
      }
    }
  ]
}