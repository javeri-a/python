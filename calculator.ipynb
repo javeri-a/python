{
  "nbformat": 4,
  "nbformat_minor": 0,
  "metadata": {
    "colab": {
      "provenance": [],
      "authorship_tag": "ABX9TyNH4ikeDHuTF4EBEMlvRyth",
      "include_colab_link": true
    },
    "kernelspec": {
      "name": "python3",
      "display_name": "Python 3"
    },
    "language_info": {
      "name": "python"
    }
  },
  "cells": [
    {
      "cell_type": "markdown",
      "metadata": {
        "id": "view-in-github",
        "colab_type": "text"
      },
      "source": [
        "<a href=\"https://colab.research.google.com/github/javeri-a/python/blob/main/calculator.ipynb\" target=\"_parent\"><img src=\"https://colab.research.google.com/assets/colab-badge.svg\" alt=\"Open In Colab\"/></a>"
      ]
    },
    {
      "cell_type": "code",
      "source": [
        "def calculator():\n",
        "    while True:\n",
        "        print(\"Select operation:\")\n",
        "        print(\"1. Add\")\n",
        "        print(\"2. Subtract\")\n",
        "        print(\"3. Multiply\")\n",
        "        print(\"4. Divide\")\n",
        "        print(\"5. Exit\")\n",
        "\n",
        "        choice = input(\"Enter choice(1/2/3/4/5): \")\n",
        "\n",
        "        if choice in ('1', '2', '3', '4'):\n",
        "            try:\n",
        "                num1 = float(input(\"Enter first number: \"))\n",
        "                num2 = float(input(\"Enter second number: \"))\n",
        "            except ValueError:\n",
        "                print(\"Invalid input. Please enter numbers only.\")\n",
        "                continue\n",
        "\n",
        "            if choice == '1':\n",
        "                print(num1, \"+\", num2, \"=\", num1 + num2)\n",
        "\n",
        "            elif choice == '2':\n",
        "                print(num1, \"-\", num2, \"=\", num1 - num2)\n",
        "\n",
        "            elif choice == '3':\n",
        "                print(num1, \"*\", num2, \"=\", num1 * num2)\n",
        "\n",
        "            elif choice == '4':\n",
        "                if num2 == 0:\n",
        "                    print(\"Division by zero error!\")\n",
        "                else:\n",
        "                    print(num1, \"/\", num2, \"=\", num1 / num2)\n",
        "\n",
        "        elif choice == '5':\n",
        "            break\n",
        "        else:\n",
        "            print(\"Invalid Input\")\n",
        "\n",
        "calculator()"
      ],
      "metadata": {
        "colab": {
          "base_uri": "https://localhost:8080/"
        },
        "id": "ej3HNUtDg-Nr",
        "outputId": "72811c99-8e8c-4670-bca2-a63d02836b0b"
      },
      "execution_count": null,
      "outputs": [
        {
          "output_type": "stream",
          "name": "stdout",
          "text": [
            "Select operation:\n",
            "1. Add\n",
            "2. Subtract\n",
            "3. Multiply\n",
            "4. Divide\n",
            "5. Exit\n",
            "Enter choice(1/2/3/4/5): 1\n",
            "Enter first number: 3\n",
            "Enter second number: 3\n",
            "3.0 + 3.0 = 6.0\n",
            "Select operation:\n",
            "1. Add\n",
            "2. Subtract\n",
            "3. Multiply\n",
            "4. Divide\n",
            "5. Exit\n"
          ]
        }
      ]
    }
  ]
}