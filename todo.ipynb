{
  "cells": [
    {
      "cell_type": "markdown",
      "metadata": {
        "id": "view-in-github",
        "colab_type": "text"
      },
      "source": [
        "<a href=\"https://colab.research.google.com/github/javeri-a/python/blob/main/todo.ipynb\" target=\"_parent\"><img src=\"https://colab.research.google.com/assets/colab-badge.svg\" alt=\"Open In Colab\"/></a>"
      ]
    },
    {
      "cell_type": "code",
      "execution_count": null,
      "metadata": {
        "colab": {
          "background_save": true,
          "base_uri": "https://localhost:8080/"
        },
        "id": "fE4ThxdtreLD",
        "outputId": "bf29ecab-3bb0-4ca7-8dfa-6552cb35694b"
      },
      "outputs": [
        {
          "name": "stdout",
          "output_type": "stream",
          "text": [
            "\n",
            "📝 To-Do List Menu:\n",
            "1️⃣ Add Task\n",
            "2️⃣ View Tasks\n",
            "3️⃣ Remove Task\n",
            "4️⃣ Exit\n",
            "📭 No tasks in the list.\n",
            "\n",
            "📝 To-Do List Menu:\n",
            "1️⃣ Add Task\n",
            "2️⃣ View Tasks\n",
            "3️⃣ Remove Task\n",
            "4️⃣ Exit\n",
            "✅ Task 'red' added successfully!\n",
            "\n",
            "📝 To-Do List Menu:\n",
            "1️⃣ Add Task\n",
            "2️⃣ View Tasks\n",
            "3️⃣ Remove Task\n",
            "4️⃣ Exit\n",
            "\n",
            "📋 Your Tasks:\n",
            "1. red\n",
            "\n",
            "📝 To-Do List Menu:\n",
            "1️⃣ Add Task\n",
            "2️⃣ View Tasks\n",
            "3️⃣ Remove Task\n",
            "4️⃣ Exit\n"
          ]
        }
      ],
      "source": [
        "# Empty list to store tasks\n",
        "todo_list = []\n",
        "\n",
        "def show_menu():\n",
        "    print(\"\\n📝 To-Do List Menu:\")\n",
        "    print(\"1️⃣ Add Task\")\n",
        "    print(\"2️⃣ View Tasks\")\n",
        "    print(\"3️⃣ Remove Task\")\n",
        "    print(\"4️⃣ Exit\")\n",
        "\n",
        "while True:\n",
        "    show_menu()\n",
        "    choice = input(\"\\nChoose an option (1-4): \")\n",
        "\n",
        "    if choice == \"1\":\n",
        "        task = input(\"Enter your task: \")\n",
        "        todo_list.append(task)\n",
        "        print(f\"✅ Task '{task}' added successfully!\")\n",
        "\n",
        "    elif choice == \"2\":\n",
        "        if not todo_list:\n",
        "            print(\"📭 No tasks in the list.\")\n",
        "        else:\n",
        "            print(\"\\n📋 Your Tasks:\")\n",
        "            for index, task in enumerate(todo_list, start=1):\n",
        "                print(f\"{index}. {task}\")\n",
        "\n",
        "    elif choice == \"3\":\n",
        "        if not todo_list:\n",
        "            print(\"❌ No tasks to remove.\")\n",
        "        else:\n",
        "            print(\"\\n📋 Your Tasks:\")\n",
        "            for index, task in enumerate(todo_list, start=1):\n",
        "                print(f\"{index}. {task}\")\n",
        "\n",
        "            try:\n",
        "                task_num = int(input(\"\\nEnter task number to remove: \"))\n",
        "                removed_task = todo_list.pop(task_num - 1)\n",
        "                print(f\"🗑️ Task '{removed_task}' removed successfully!\")\n",
        "            except (IndexError, ValueError):\n",
        "                print(\"⚠️ Invalid task number!\")\n",
        "\n",
        "    elif choice == \"4\":\n",
        "        print(\"👋 Exiting To-Do List. Have a great day!\")\n",
        "        break\n",
        "\n",
        "    else:\n",
        "        print(\"⚠️ Invalid choice! Please select a valid option.\")\n"
      ]
    }
  ],
  "metadata": {
    "colab": {
      "provenance": [],
      "authorship_tag": "ABX9TyOCv/lAuW5sFVy2ouPcZm7I",
      "include_colab_link": true
    },
    "kernelspec": {
      "display_name": "Python 3",
      "name": "python3"
    },
    "language_info": {
      "name": "python"
    }
  },
  "nbformat": 4,
  "nbformat_minor": 0
}