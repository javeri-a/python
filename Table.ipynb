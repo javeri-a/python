{
  "nbformat": 4,
  "nbformat_minor": 0,
  "metadata": {
    "colab": {
      "provenance": [],
      "authorship_tag": "ABX9TyOk7xoyTrPG5A3k2g3Z2cd2",
      "include_colab_link": true
    },
    "kernelspec": {
      "name": "python3",
      "display_name": "Python 3"
    },
    "language_info": {
      "name": "python"
    }
  },
  "cells": [
    {
      "cell_type": "markdown",
      "metadata": {
        "id": "view-in-github",
        "colab_type": "text"
      },
      "source": [
        "<a href=\"https://colab.research.google.com/github/javeri-a/python/blob/main/Table.ipynb\" target=\"_parent\"><img src=\"https://colab.research.google.com/assets/colab-badge.svg\" alt=\"Open In Colab\"/></a>"
      ]
    },
    {
      "cell_type": "code",
      "execution_count": 21,
      "metadata": {
        "colab": {
          "base_uri": "https://localhost:8080/"
        },
        "id": "kTa7uKsefRtM",
        "outputId": "e70f1432-1aaf-4d16-a28e-b4fe723389b5"
      },
      "outputs": [
        {
          "output_type": "stream",
          "name": "stdout",
          "text": [
            "14\n"
          ]
        }
      ],
      "source": [
        " numn = 6 + 8\n",
        " print(numn)\n"
      ]
    },
    {
      "cell_type": "code",
      "source": [
        "\n",
        "\n",
        "number = 1719\n",
        "\n",
        "for i in range(1, 11):\n",
        "    print(f\"{number} x {i} = {number * i}\")\n"
      ],
      "metadata": {
        "colab": {
          "base_uri": "https://localhost:8080/"
        },
        "id": "Z8Pxwww0fjYL",
        "outputId": "f23837f1-3264-41c1-bbf0-312a7151abbf"
      },
      "execution_count": 23,
      "outputs": [
        {
          "output_type": "stream",
          "name": "stdout",
          "text": [
            "1719 x 1 = 1719\n",
            "1719 x 2 = 3438\n",
            "1719 x 3 = 5157\n",
            "1719 x 4 = 6876\n",
            "1719 x 5 = 8595\n",
            "1719 x 6 = 10314\n",
            "1719 x 7 = 12033\n",
            "1719 x 8 = 13752\n",
            "1719 x 9 = 15471\n",
            "1719 x 10 = 17190\n"
          ]
        }
      ]
    },
    {
      "cell_type": "code",
      "source": [],
      "metadata": {
        "id": "co87hJ922OM9"
      },
      "execution_count": null,
      "outputs": []
    },
    {
      "cell_type": "code",
      "source": [],
      "metadata": {
        "id": "VYlvUp53nOFV"
      },
      "execution_count": 24,
      "outputs": []
    }
  ]
}